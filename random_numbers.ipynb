{
 "cells": [
  {
   "cell_type": "code",
   "execution_count": 1,
   "id": "0830aa57",
   "metadata": {},
   "outputs": [],
   "source": [
    "# Import the random module.\n",
    "import random"
   ]
  },
  {
   "cell_type": "code",
   "execution_count": 2,
   "id": "6da2c0b8",
   "metadata": {},
   "outputs": [
    {
     "data": {
      "text/plain": [
       "-19"
      ]
     },
     "execution_count": 2,
     "metadata": {},
     "output_type": "execute_result"
    }
   ],
   "source": [
    "# this code produces a random numbers but only integers between the given range\n",
    "# in the parenthesis\n",
    "random.randint(-90, 90)"
   ]
  },
  {
   "cell_type": "code",
   "execution_count": 3,
   "id": "86bcdc3a",
   "metadata": {},
   "outputs": [
    {
     "data": {
      "text/plain": [
       "0.5254821492216835"
      ]
     },
     "execution_count": 3,
     "metadata": {},
     "output_type": "execute_result"
    }
   ],
   "source": [
    "# code produces a random numbers but they are float numbers or aka decimals\n",
    "# between 0 and 1\n",
    "random.random ()"
   ]
  },
  {
   "cell_type": "code",
   "execution_count": 4,
   "id": "3512a7db",
   "metadata": {},
   "outputs": [
    {
     "data": {
      "text/plain": [
       "-2.171658808812813"
      ]
     },
     "execution_count": 4,
     "metadata": {},
     "output_type": "execute_result"
    }
   ],
   "source": [
    "# piece of code combines the random integers creating and the random.random\n",
    "# that produces decimals between 0-1 giving us all random numbers between\n",
    "# -89.99 and 89.99 we can edit how many decimal places we also want\n",
    "random_number = random.randint(-90,89) + random.random()\n",
    "random_number"
   ]
  },
  {
   "cell_type": "code",
   "execution_count": 5,
   "id": "4952ad83",
   "metadata": {},
   "outputs": [
    {
     "data": {
      "text/plain": [
       "[80.54432990198251,\n",
       " -57.27172566105578,\n",
       " 5.497208897618326,\n",
       " 86.42113896860704,\n",
       " 36.71182916173562,\n",
       " -86.74239753843203,\n",
       " -74.42457186664524,\n",
       " -10.837544709646698,\n",
       " -37.88625313396536,\n",
       " -49.68930591127226]"
      ]
     },
     "execution_count": 5,
     "metadata": {},
     "output_type": "execute_result"
    }
   ],
   "source": [
    "# this is a while loop just like a for loop it will iterate throuhg a list until\n",
    "# the condition given is not longer true and it will stop\n",
    "# brake down of code:\n",
    "# the x = 1 is a variable we are going to assign to the loop this variable \n",
    "# will start the loop at 1 meaning 1-11=10 you should get an array of 10 items\n",
    "x = 1\n",
    "# create an empty list to store our random lattitudes\n",
    "latitudes = []\n",
    "# begin the while loop the condition being keep iterating only until x is less than \n",
    "# 1\n",
    "while x < 11:    \n",
    "# write the function in which the loop will take place this function is \n",
    "# generating the random latitudes\n",
    "    random_lat = random.randint(-90, 89) + random.random()\n",
    "# add the random lattitudes to the empty list and add 1 to x very important\n",
    "# you dont miss the x +=1 if you dont youll get the lattitudes between the range\n",
    "# given in the random.randit arguement\n",
    "    latitudes.append(random_lat)\n",
    "    x += 1\n",
    "\n",
    "# print the random latitudes created. \n",
    "latitudes\n"
   ]
  },
  {
   "cell_type": "code",
   "execution_count": 6,
   "id": "720f82ec",
   "metadata": {},
   "outputs": [
    {
     "data": {
      "text/plain": [
       "74"
      ]
     },
     "execution_count": 6,
     "metadata": {},
     "output_type": "execute_result"
    }
   ],
   "source": [
    "# this is another method of creating random numbers this code \n",
    "# takes not only a range but also a step which has to be an integer \n",
    "random.randrange(-90,90, step=1)"
   ]
  },
  {
   "cell_type": "code",
   "execution_count": 7,
   "id": "69e81a94",
   "metadata": {},
   "outputs": [
    {
     "data": {
      "text/plain": [
       "-30"
      ]
     },
     "execution_count": 7,
     "metadata": {},
     "output_type": "execute_result"
    }
   ],
   "source": [
    "# experimenting with the randrange\n",
    "random.randrange(-90,90, step=3)"
   ]
  },
  {
   "cell_type": "code",
   "execution_count": 8,
   "id": "bd0f4c74",
   "metadata": {},
   "outputs": [
    {
     "data": {
      "text/plain": [
       "27.77904862121089"
      ]
     },
     "execution_count": 8,
     "metadata": {},
     "output_type": "execute_result"
    }
   ],
   "source": [
    "# the uniform funtion returns random floating numbers between the given \n",
    "# ranges \n",
    "random.uniform(-90,90)"
   ]
  },
  {
   "cell_type": "code",
   "execution_count": 9,
   "id": "caa2b1cb",
   "metadata": {},
   "outputs": [],
   "source": [
    "# Import the NumPy module.\n",
    "import numpy as np"
   ]
  },
  {
   "cell_type": "code",
   "execution_count": 10,
   "id": "55e2e681",
   "metadata": {},
   "outputs": [
    {
     "data": {
      "text/plain": [
       "27.216771903822817"
      ]
     },
     "execution_count": 10,
     "metadata": {},
     "output_type": "execute_result"
    }
   ],
   "source": [
    "# this code generates random numbers between the given range \n",
    "# adding decimals is optional\n",
    "np.random.uniform(-90.000, 90.000)\n",
    "# Another option is to write the parameters as np.random.uniform(low=-90, high=90)"
   ]
  },
  {
   "cell_type": "code",
   "execution_count": 11,
   "id": "7cb48fad",
   "metadata": {},
   "outputs": [
    {
     "data": {
      "text/plain": [
       "array([-59.11350832,  55.05116446,  28.73461393,  57.70185881,\n",
       "       -32.84399938,  49.59326503,  42.55235828, -41.96269275,\n",
       "       -27.88952819,  62.30411511,  75.85783896,  72.08498793,\n",
       "        20.73693736, -20.23831031,  25.97326364,  89.67100561,\n",
       "        -7.45895883,  13.44366092, -20.47561016,  58.34164422,\n",
       "       -57.43278737, -52.41955954, -54.18452767, -27.69396391,\n",
       "       -10.71417477, -19.27162735,  66.4589608 , -75.94461151,\n",
       "        60.45618042, -88.08639082, -19.47397489,  32.07726828,\n",
       "       -31.75575783,  68.84625621,  20.69548169,  30.27399448,\n",
       "       -27.70612519,   6.26060892,   7.63127918, -53.18951419,\n",
       "       -12.32562669,   6.46025458, -51.51908987,  15.1948734 ,\n",
       "       -82.28353276, -34.78484484, -82.00635252, -18.95143976,\n",
       "       -85.6906341 ,  29.56611498])"
      ]
     },
     "execution_count": 11,
     "metadata": {},
     "output_type": "execute_result"
    }
   ],
   "source": [
    "# this code does the same as the previous cell but using numpy and using size\n",
    "# we are telling it how many random numbers betwee the give range we want \n",
    "# the result is an array of 50 random floating numbers notice this method is \n",
    "# far more efficient than using a while loop early in the codign\n",
    "np.random.uniform(-90.000, 90.000, size=50)"
   ]
  },
  {
   "cell_type": "code",
   "execution_count": 12,
   "id": "ff2919bc",
   "metadata": {},
   "outputs": [],
   "source": [
    "# Import timeit. test how long a piece of code or function takes to run\n",
    "import timeit"
   ]
  },
  {
   "cell_type": "code",
   "execution_count": 13,
   "id": "1475bf8a",
   "metadata": {},
   "outputs": [
    {
     "name": "stdout",
     "output_type": "stream",
     "text": [
      "13.9 µs ± 257 ns per loop (mean ± std. dev. of 7 runs, 100000 loops each)\n"
     ]
    }
   ],
   "source": [
    "# notice that how timeit is being called \n",
    "%timeit np.random.uniform(-90.000, 90.000, size=1500)\n",
    "# The output is the amount of time it took to run this code,\n",
    "# which is an average of 14.6 microseconds. The amount of time\n",
    "# it takes to run this code depends on the processing speed and \n",
    "# the RAM of your computer."
   ]
  },
  {
   "cell_type": "code",
   "execution_count": 14,
   "id": "52e13fc5",
   "metadata": {},
   "outputs": [
    {
     "name": "stdout",
     "output_type": "stream",
     "text": [
      "1.61 ms ± 26.2 µs per loop (mean ± std. dev. of 7 runs, 1000 loops each)\n"
     ]
    }
   ],
   "source": [
    "# this while loop is to test and compare which code runs more efficient \n",
    "# on our computer we still using %timeit\n",
    "# begin creating our fucntion by calling def name of function is latitudes\n",
    "# after the : everything is what the fucntion is doing\n",
    "def latitudes(size):\n",
    "    latitudes = []\n",
    "    x = 0\n",
    "    while x < (size):\n",
    "        random_lat = random.randint(-90, 90) + random.random()\n",
    "        latitudes.append(random_lat)\n",
    "        x += 1\n",
    "# this will be the output once this function is called \n",
    "    return latitudes\n",
    "# Call the function with 1500.\n",
    "%timeit latitudes(1500)"
   ]
  },
  {
   "cell_type": "markdown",
   "id": "50162ff3",
   "metadata": {},
   "source": [
    "Using the np.random.uniform(-90.000, 90.000, size=1500) is 100 times faster than using the function, and our code is one line, whereas the function uses eight lines!"
   ]
  },
  {
   "cell_type": "code",
   "execution_count": 15,
   "id": "18e493d6",
   "metadata": {},
   "outputs": [],
   "source": [
    "# Import linear regression from the SciPy stats module.\n",
    "from scipy.stats import linregress"
   ]
  },
  {
   "cell_type": "code",
   "execution_count": 16,
   "id": "13425fca",
   "metadata": {},
   "outputs": [],
   "source": [
    "# Create an equal number of latitudes and temperatures.\n",
    "lats = [42.5, 43.9, 8.1, 36.8, 79.9, 69.1, 25.7, 15.3, 12.7, 64.5]\n",
    "temps = [80.5, 75.3, 90.9, 90.0, 40.4, 62.3, 85.4, 79.6, 72.5, 72.0]"
   ]
  },
  {
   "cell_type": "markdown",
   "id": "98bef265",
   "metadata": {},
   "source": [
    "IMPORTANT\n",
    "The slope, intercept, r_value, p_value, and std_errare always returned when we run the linregress function. If you don't want to calculate one of these values but do not add it inside the parentheses, you'll get a ValueError: too many values to unpack.\n",
    "\n",
    "To prevent this error, add a comma and underscore for each value you don't want to calculate.\n",
    "\n",
    "For instance, if you don't want to print out the p-value and the standard error, write your function as (slope, intercept, r_value, _, _) = linregress(x, y)."
   ]
  },
  {
   "cell_type": "code",
   "execution_count": 20,
   "id": "e8d0e661",
   "metadata": {},
   "outputs": [
    {
     "name": "stdout",
     "output_type": "stream",
     "text": [
      "y = -0.45x + 92.94\n",
      "The p-value is: 0.011\n"
     ]
    }
   ],
   "source": [
    "# Perform linear regression.\n",
    "(slope, intercept, r_value, p_value, std_err) = linregress(lats, temps)\n",
    "# Get the equation of the line.\n",
    "line_eq = \"y = \" + str(round(slope,2)) + \"x + \" + str(round(intercept,2))\n",
    "print(line_eq)\n",
    "print(f\"The p-value is: {p_value:.3f}\")"
   ]
  },
  {
   "cell_type": "markdown",
   "id": "7fcd5850",
   "metadata": {},
   "source": [
    "NOTE\n",
    "In statistics, the p-value is used to determine significance of results. In most cases, data scientists like to use a significance level of 0.05, which means:\n",
    "\n",
    "A linear regression with a p-value > 0.05 is not statistically significant.\n",
    "\n",
    "A linear regression with a p-value < 0.05 is statistically significant.\n",
    "\n",
    "P-values can also be used to justify rejecting a null hypothesis. We will discuss p-values and hypothesis testing in more detail later in the course."
   ]
  },
  {
   "cell_type": "code",
   "execution_count": 18,
   "id": "c92bee17",
   "metadata": {},
   "outputs": [],
   "source": [
    "# Calculate the regression line \"y values\" from the slope and intercept.\n",
    "regress_values = [(lat * slope + intercept) for lat in lats]"
   ]
  },
  {
   "cell_type": "markdown",
   "id": "22be2a74",
   "metadata": {},
   "source": [
    "Let's review what this code does:\n",
    "\n",
    "We plot the latitudes and temperatures on a scatter plot.\n",
    "We create a line plot of our regression line with the ideal temperatures.\n",
    "We annotate the line plot by adding the equation of our regression line, where the x-axis is 10 and the y-axis is 40, and specify the font and color.\n",
    "We create x- and y-axes labels."
   ]
  },
  {
   "cell_type": "code",
   "execution_count": 21,
   "id": "f9d91e33",
   "metadata": {},
   "outputs": [
    {
     "data": {
      "image/png": "[encoded data removed]",
      "text/plain": [
       "<Figure size 640x480 with 1 Axes>"
      ]
     },
     "metadata": {},
     "output_type": "display_data"
    }
   ],
   "source": [
    "# Import Matplotlib.\n",
    "import matplotlib.pyplot as plt\n",
    "# Create a scatter plot of the x and y values.\n",
    "plt.scatter(lats,temps)\n",
    "# Plot the regression line with the x-values and the y coordinates based on the intercept and slope.\n",
    "plt.plot(lats,regress_values,\"r\")\n",
    "# Annotate the text for the line equation and add its coordinates.\n",
    "plt.annotate(line_eq, (10,40), fontsize=15, color=\"red\")\n",
    "plt.xlabel('Latitude')\n",
    "plt.ylabel('Temp')\n",
    "plt.show()"
   ]
  },
  {
   "cell_type": "code",
   "execution_count": null,
   "id": "344bdf39",
   "metadata": {},
   "outputs": [],
   "source": []
  },
  {
   "cell_type": "code",
   "execution_count": null,
   "id": "757f663e",
   "metadata": {},
   "outputs": [],
   "source": []
  }
 ],
 "metadata": {
  "kernelspec": {
   "display_name": "PythonData",
   "language": "python",
   "name": "pythondata"
  },
  "language_info": {
   "codemirror_mode": {
    "name": "ipython",
    "version": 3
   },
   "file_extension": ".py",
   "mimetype": "text/x-python",
   "name": "python",
   "nbconvert_exporter": "python",
   "pygments_lexer": "ipython3",
   "version": "3.7.13"
  }
 },
 "nbformat": 4,
 "nbformat_minor": 5
}
