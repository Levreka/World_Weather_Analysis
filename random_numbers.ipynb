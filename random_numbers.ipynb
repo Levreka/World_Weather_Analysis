{
 "cells": [
  {
   "cell_type": "code",
   "execution_count": 1,
   "id": "0830aa57",
   "metadata": {},
   "outputs": [],
   "source": [
    "# Import the random module.\n",
    "import random"
   ]
  },
  {
   "cell_type": "code",
   "execution_count": 2,
   "id": "6da2c0b8",
   "metadata": {},
   "outputs": [
    {
     "data": {
      "text/plain": [
       "52"
      ]
     },
     "execution_count": 2,
     "metadata": {},
     "output_type": "execute_result"
    }
   ],
   "source": [
    "# this code produces a random numbers but only integers between the given range\n",
    "# in the parenthesis\n",
    "random.randint(-90, 90)"
   ]
  },
  {
   "cell_type": "code",
   "execution_count": 3,
   "id": "86bcdc3a",
   "metadata": {},
   "outputs": [
    {
     "data": {
      "text/plain": [
       "0.8033272831645963"
      ]
     },
     "execution_count": 3,
     "metadata": {},
     "output_type": "execute_result"
    }
   ],
   "source": [
    "# code produces a random numbers but they are float numbers or aka decimals\n",
    "# between 0 and 1\n",
    "random.random ()"
   ]
  },
  {
   "cell_type": "code",
   "execution_count": 4,
   "id": "3512a7db",
   "metadata": {},
   "outputs": [
    {
     "data": {
      "text/plain": [
       "40.54168432067609"
      ]
     },
     "execution_count": 4,
     "metadata": {},
     "output_type": "execute_result"
    }
   ],
   "source": [
    "# piece of code combines the random integers creating and the random.random\n",
    "# that produces decimals between 0-1 giving us all random numbers between\n",
    "# -89.99 and 89.99 we can edit how many decimal places we also want\n",
    "random_number = random.randint(-90,89) + random.random()\n",
    "random_number"
   ]
  },
  {
   "cell_type": "code",
   "execution_count": 7,
   "id": "4952ad83",
   "metadata": {},
   "outputs": [
    {
     "data": {
      "text/plain": [
       "[71.99397378470289,\n",
       " 67.61345466150595,\n",
       " -85.81963119601706,\n",
       " -52.37958347914515,\n",
       " 71.3967900145568,\n",
       " -61.6985814121156,\n",
       " 51.89847033059636,\n",
       " 7.976415087199063,\n",
       " 23.330099182647775,\n",
       " -16.78660487426834]"
      ]
     },
     "execution_count": 7,
     "metadata": {},
     "output_type": "execute_result"
    }
   ],
   "source": [
    "# this is a while loop just like a for loop it will iterate throuhg a list until\n",
    "# the condition given is not longer true and it will stop\n",
    "# brake down of code:\n",
    "# the x = 1 is a variable we are going to assign to the loop this variable \n",
    "# will start the loop at 1 meaning 1-11=10 you should get an array of 10 items\n",
    "x = 1\n",
    "# create an empty list to store our random lattitudes\n",
    "latitudes = []\n",
    "# begin the while loop the condition being keep iterating only until x is less than \n",
    "# 1\n",
    "while x < 11:    \n",
    "# write the function in which the loop will take place this function is \n",
    "# generating the random latitudes\n",
    "    random_lat = random.randint(-90, 89) + random.random()\n",
    "# add the random lattitudes to the empty list and add 1 to x very important\n",
    "# you dont miss the x +=1 if you dont youll get the lattitudes between the range\n",
    "# given in the random.randit arguement\n",
    "    latitudes.append(random_lat)\n",
    "    x += 1\n",
    "\n",
    "# print the random latitudes created. \n",
    "latitudes\n"
   ]
  },
  {
   "cell_type": "code",
   "execution_count": 14,
   "id": "720f82ec",
   "metadata": {},
   "outputs": [
    {
     "data": {
      "text/plain": [
       "23"
      ]
     },
     "execution_count": 14,
     "metadata": {},
     "output_type": "execute_result"
    }
   ],
   "source": [
    "# this is another method of creating random numbers this code \n",
    "# takes not only a range but also a step which has to be an integer \n",
    "random.randrange(-90,90, step=1)"
   ]
  },
  {
   "cell_type": "code",
   "execution_count": 15,
   "id": "69e81a94",
   "metadata": {},
   "outputs": [
    {
     "data": {
      "text/plain": [
       "-39"
      ]
     },
     "execution_count": 15,
     "metadata": {},
     "output_type": "execute_result"
    }
   ],
   "source": [
    "# experimenting with the randrange\n",
    "random.randrange(-90,90, step=3)"
   ]
  },
  {
   "cell_type": "code",
   "execution_count": 16,
   "id": "bd0f4c74",
   "metadata": {},
   "outputs": [
    {
     "data": {
      "text/plain": [
       "31.738721767916005"
      ]
     },
     "execution_count": 16,
     "metadata": {},
     "output_type": "execute_result"
    }
   ],
   "source": [
    "# the uniform funtion returns random floating numbers between the given \n",
    "# ranges \n",
    "random.uniform(-90,90)"
   ]
  },
  {
   "cell_type": "code",
   "execution_count": 17,
   "id": "caa2b1cb",
   "metadata": {},
   "outputs": [],
   "source": [
    "# Import the NumPy module.\n",
    "import numpy as np"
   ]
  },
  {
   "cell_type": "code",
   "execution_count": 19,
   "id": "55e2e681",
   "metadata": {},
   "outputs": [
    {
     "data": {
      "text/plain": [
       "89.02639925468358"
      ]
     },
     "execution_count": 19,
     "metadata": {},
     "output_type": "execute_result"
    }
   ],
   "source": [
    "# this code generates random numbers between the given range \n",
    "# adding decimals is optional\n",
    "np.random.uniform(-90.000, 90.000)\n",
    "# Another option is to write the parameters as np.random.uniform(low=-90, high=90)"
   ]
  },
  {
   "cell_type": "code",
   "execution_count": 20,
   "id": "7cb48fad",
   "metadata": {},
   "outputs": [
    {
     "data": {
      "text/plain": [
       "array([ 78.82379667,  81.91334927,  -7.286002  ,  72.49730189,\n",
       "       -71.19268665, -43.75782678,  -0.85102453, -81.21004878,\n",
       "        40.08760731, -53.35847293, -86.08675272, -42.04236214,\n",
       "        64.18169188,  44.08652351,  78.20854776, -39.67339033,\n",
       "        -1.69222791,  31.01347827, -34.22860848,   6.53852737,\n",
       "        16.05606098, -48.5773852 ,  15.21459733, -81.63734553,\n",
       "        11.65364991,  14.92113092, -89.28892915, -33.57609382,\n",
       "        19.43343069,  66.90422092,  89.63606429,  57.24638823,\n",
       "       -17.61274923, -29.67904545,  -7.18469424, -29.71914498,\n",
       "       -61.90500963,  88.03656845,  86.33158181, -68.90971343,\n",
       "       -14.2429638 , -52.33093993,  14.79838075, -78.15240059,\n",
       "        23.68289452,  75.67669761, -42.85770281,  66.65666935,\n",
       "        73.83981047, -62.42005221])"
      ]
     },
     "execution_count": 20,
     "metadata": {},
     "output_type": "execute_result"
    }
   ],
   "source": [
    "# this code does the same as the previous cell but using numpy and using size\n",
    "# we are telling it how many random numbers betwee the give range we want \n",
    "np.random.uniform(-90.000, 90.000, size=50)"
   ]
  },
  {
   "cell_type": "code",
   "execution_count": null,
   "id": "ff2919bc",
   "metadata": {},
   "outputs": [],
   "source": [
    "# Import timeit.\n",
    "import timeit"
   ]
  },
  {
   "cell_type": "code",
   "execution_count": null,
   "id": "1475bf8a",
   "metadata": {},
   "outputs": [],
   "source": [
    "%timeit np.random.uniform(-90.000, 90.000, size=1500)"
   ]
  },
  {
   "cell_type": "code",
   "execution_count": null,
   "id": "52e13fc5",
   "metadata": {},
   "outputs": [],
   "source": [
    "def latitudes(size):\n",
    "    latitudes = []\n",
    "    x = 0\n",
    "    while x < (size):\n",
    "        random_lat = random.randint(-90, 90) + random.random()\n",
    "        latitudes.append(random_lat)\n",
    "        x += 1\n",
    "    return latitudes\n",
    "# Call the function with 1500.\n",
    "%timeit latitudes(1500)"
   ]
  },
  {
   "cell_type": "code",
   "execution_count": null,
   "id": "18e493d6",
   "metadata": {},
   "outputs": [],
   "source": [
    "# Import linear regression from the SciPy stats module.\n",
    "from scipy.stats import linregress"
   ]
  },
  {
   "cell_type": "code",
   "execution_count": null,
   "id": "13425fca",
   "metadata": {},
   "outputs": [],
   "source": [
    "# Create an equal number of latitudes and temperatures.\n",
    "lats = [42.5, 43.9, 8.1, 36.8, 79.9, 69.1, 25.7, 15.3, 12.7, 64.5]\n",
    "temps = [80.5, 75.3, 90.9, 90.0, 40.4, 62.3, 85.4, 79.6, 72.5, 72.0]"
   ]
  },
  {
   "cell_type": "code",
   "execution_count": null,
   "id": "e8d0e661",
   "metadata": {},
   "outputs": [],
   "source": [
    "# Perform linear regression.\n",
    "(slope, intercept, r_value, p_value, std_err) = linregress(lats, temps)\n",
    "# Get the equation of the line.\n",
    "line_eq = \"y = \" + str(round(slope,2)) + \"x + \" + str(round(intercept,2))\n",
    "print(line_eq)\n",
    "print(f\"The p-value is: {p_value:.3f}\")"
   ]
  },
  {
   "cell_type": "code",
   "execution_count": null,
   "id": "c92bee17",
   "metadata": {},
   "outputs": [],
   "source": [
    "# Calculate the regression line \"y values\" from the slope and intercept.\n",
    "regress_values = [(lat * slope + intercept) for lat in lats]"
   ]
  },
  {
   "cell_type": "code",
   "execution_count": null,
   "id": "f9d91e33",
   "metadata": {},
   "outputs": [],
   "source": [
    "# Import Matplotlib.\n",
    "import matplotlib.pyplot as plt\n",
    "# Create a scatter plot of the x and y values.\n",
    "plt.scatter(lats,temps)\n",
    "# Plot the regression line with the x-values and the y coordinates based on the intercept and slope.\n",
    "plt.plot(lats,regress_values,\"r\")\n",
    "# Annotate the text for the line equation and add its coordinates.\n",
    "plt.annotate(line_eq, (10,40), fontsize=15, color=\"red\")\n",
    "plt.xlabel('Latitude')\n",
    "plt.ylabel('Temp')\n",
    "plt.show()"
   ]
  },
  {
   "cell_type": "code",
   "execution_count": null,
   "id": "344bdf39",
   "metadata": {},
   "outputs": [],
   "source": []
  }
 ],
 "metadata": {
  "kernelspec": {
   "display_name": "PythonData",
   "language": "python",
   "name": "pythondata"
  },
  "language_info": {
   "codemirror_mode": {
    "name": "ipython",
    "version": 3
   },
   "file_extension": ".py",
   "mimetype": "text/x-python",
   "name": "python",
   "nbconvert_exporter": "python",
   "pygments_lexer": "ipython3",
   "version": "3.7.13"
  }
 },
 "nbformat": 4,
 "nbformat_minor": 5
}
