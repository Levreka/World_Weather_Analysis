{
 "cells": [
  {
   "cell_type": "code",
   "execution_count": 1,
   "id": "773fe79c",
   "metadata": {},
   "outputs": [],
   "source": [
    "# Create a practice set of random latitude and longitude combinations.\n",
    "lats = [25.12903645, 25.92017388, 26.62509167, -59.98969384, 37.30571269]\n",
    "lngs = [-67.59741259, 11.09532135, 74.84233102, -76.89176677, -61.13376282]\n",
    "lat_lngs = zip(lats, lngs)\n"
   ]
  },
  {
   "cell_type": "code",
   "execution_count": 2,
   "id": "72a0494f",
   "metadata": {},
   "outputs": [],
   "source": [
    "# Use the citipy module to determine city based on latitude and longitude.\n",
    "from citipy import citipy"
   ]
  },
  {
   "cell_type": "code",
   "execution_count": 3,
   "id": "33bc6303",
   "metadata": {},
   "outputs": [],
   "source": [
    "# Add the latitudes and longitudes to a list.\n",
    "coordinates = list(lat_lngs)"
   ]
  },
  {
   "cell_type": "code",
   "execution_count": 4,
   "id": "60c52b8a",
   "metadata": {},
   "outputs": [
    {
     "name": "stdout",
     "output_type": "stream",
     "text": [
      "cockburn town tc\n",
      "gat ly\n",
      "parvatsar in\n",
      "punta arenas cl\n",
      "saint george bm\n"
     ]
    }
   ],
   "source": [
    "# Use the tuple() function to display the latitude and longitude combinations.\n",
    "for coordinate in coordinates:\n",
    "    print(citipy.nearest_city(coordinate[0], coordinate[1]).city_name,\n",
    "          citipy.nearest_city(coordinate[0], coordinate[1]).country_code)"
   ]
  },
  {
   "cell_type": "code",
   "execution_count": 5,
   "id": "5568ff28",
   "metadata": {},
   "outputs": [],
   "source": [
    "# Import the requests library.\n",
    "import requests\n",
    "\n",
    "# Import the API key.\n",
    "from config import weather_api_key"
   ]
  },
  {
   "cell_type": "code",
   "execution_count": 6,
   "id": "b8fa3ee4",
   "metadata": {},
   "outputs": [],
   "source": [
    "# Starting URL for Weather Map API Call.\n",
    "url = \"http://api.openweathermap.org/data/2.5/weather?units=Imperial&APPID=\" + weather_api_key\n"
   ]
  },
  {
   "cell_type": "markdown",
   "id": "33b0c1cb",
   "metadata": {},
   "source": [
    "Your config.py file should be in the same folder as your API_practice.ipynb file or any Jupyter Notebook file that is accessing the config.py file."
   ]
  },
  {
   "cell_type": "code",
   "execution_count": 7,
   "id": "3a433433",
   "metadata": {},
   "outputs": [
    {
     "name": "stdout",
     "output_type": "stream",
     "text": [
      "http://api.openweathermap.org/data/2.5/weather?units=Imperial&APPID=95b7a2bbfe6591b746009b4c0aaefbd0&q=Boston\n"
     ]
    }
   ],
   "source": [
    "# Create an endpoint URL for a city.\n",
    "city_url = url + \"&q=\" + \"Boston\"\n",
    "print(city_url)\n",
    "# In the code, we are creating a string to get the weather data for \n",
    "# Boston by using the city_url. To create the city_url we add the \n",
    "# parameter, &q= and \"Boston\" to the url."
   ]
  },
  {
   "cell_type": "code",
   "execution_count": 8,
   "id": "ec618847",
   "metadata": {},
   "outputs": [
    {
     "data": {
      "text/plain": [
       "<Response [200]>"
      ]
     },
     "execution_count": 8,
     "metadata": {},
     "output_type": "execute_result"
    }
   ],
   "source": [
    "# Make a 'Get' request for the city weather.\n",
    "city_weather = requests.get(city_url)\n",
    "city_weather"
   ]
  },
  {
   "cell_type": "markdown",
   "id": "f1ea1d20",
   "metadata": {},
   "source": [
    "use the get() method, a feature of the Requests Library, to request data from an API. The get() method is one of many HTTP methods that allow us to access, add, delete, get the headers, and perform other actions on the request.\n",
    "\n",
    "Inside the parentheses of the get() method, add the URL—in our case, the city_url. Let's make a request to get our weather data for Boston.\n",
    "\n",
    "Add the following code in a new cell of your API_practice file and run the cell."
   ]
  },
  {
   "cell_type": "code",
   "execution_count": 9,
   "id": "38ac01b6",
   "metadata": {},
   "outputs": [
    {
     "data": {
      "text/plain": [
       "<Response [404]>"
      ]
     },
     "execution_count": 9,
     "metadata": {},
     "output_type": "execute_result"
    }
   ],
   "source": [
    "# Create an endpoint URL for a city. If we tried to get weather data \n",
    "# from an unrecognized city, or if the weather data for \n",
    "# a city wasn't available, we would get a 404 response. look at the \n",
    "# mispelling in boston\n",
    "city_url = url + \"&q=\" + \"Bston\"\n",
    "city_weather = requests.get(city_url)\n",
    "city_weather\n"
   ]
  },
  {
   "cell_type": "code",
   "execution_count": 10,
   "id": "32630541",
   "metadata": {},
   "outputs": [
    {
     "data": {
      "text/plain": [
       "<Response [200]>"
      ]
     },
     "execution_count": 10,
     "metadata": {},
     "output_type": "execute_result"
    }
   ],
   "source": [
    "# Create an endpoint URL for a city. another way to get a correct response\n",
    "# from the API \n",
    "city_url = url + \"&q=\" + \"Boston\"\n",
    "city_weather = requests.get(city_url)\n",
    "city_weather"
   ]
  },
  {
   "cell_type": "markdown",
   "id": "e6c0e54d",
   "metadata": {},
   "source": [
    "When we receive a valid response from the server, we have to decide on the data format. The options are text, JSON, XML, or HTML format. We can apply the format attributes to get the data into a useful format to parse.\n",
    "\n",
    "One format that provides a preview of the JSON data is the text attribute. Let's get the content for the Boston weather data using the following code."
   ]
  },
  {
   "cell_type": "code",
   "execution_count": 11,
   "id": "9654f752",
   "metadata": {},
   "outputs": [
    {
     "data": {
      "text/plain": [
       "'{\"coord\":{\"lon\":-71.0598,\"lat\":42.3584},\"weather\":[{\"id\":501,\"main\":\"Rain\",\"description\":\"moderate rain\",\"icon\":\"10n\"},{\"id\":701,\"main\":\"Mist\",\"description\":\"mist\",\"icon\":\"50n\"}],\"base\":\"stations\",\"main\":{\"temp\":63.37,\"feels_like\":63.82,\"temp_min\":60.94,\"temp_max\":65.16,\"pressure\":1012,\"humidity\":94},\"visibility\":4023,\"wind\":{\"speed\":10.36,\"deg\":150},\"rain\":{\"1h\":1.78},\"clouds\":{\"all\":100},\"dt\":1665713386,\"sys\":{\"type\":2,\"id\":2013408,\"country\":\"US\",\"sunrise\":1665658471,\"sunset\":1665698765},\"timezone\":-14400,\"id\":4930956,\"name\":\"Boston\",\"cod\":200}'"
      ]
     },
     "execution_count": 11,
     "metadata": {},
     "output_type": "execute_result"
    }
   ],
   "source": [
    "# Get the text of the 'Get' request.\n",
    "city_weather.text"
   ]
  },
  {
   "cell_type": "markdown",
   "id": "831eb8d2",
   "metadata": {},
   "source": [
    "The text in the output is a dictionary of dictionaries and arrays, or a JSON file. We can work with this data, but it might be more challenging if we needed to retrieve temperature (temp) and humidity ( humidity) from this output because the data is in a sentence format."
   ]
  },
  {
   "cell_type": "code",
   "execution_count": 12,
   "id": "b7df469c",
   "metadata": {},
   "outputs": [
    {
     "data": {
      "text/plain": [
       "{'coord': {'lon': -71.0598, 'lat': 42.3584},\n",
       " 'weather': [{'id': 501,\n",
       "   'main': 'Rain',\n",
       "   'description': 'moderate rain',\n",
       "   'icon': '10n'},\n",
       "  {'id': 701, 'main': 'Mist', 'description': 'mist', 'icon': '50n'}],\n",
       " 'base': 'stations',\n",
       " 'main': {'temp': 63.37,\n",
       "  'feels_like': 63.82,\n",
       "  'temp_min': 60.94,\n",
       "  'temp_max': 65.16,\n",
       "  'pressure': 1012,\n",
       "  'humidity': 94},\n",
       " 'visibility': 4023,\n",
       " 'wind': {'speed': 10.36, 'deg': 150},\n",
       " 'rain': {'1h': 1.78},\n",
       " 'clouds': {'all': 100},\n",
       " 'dt': 1665713386,\n",
       " 'sys': {'type': 2,\n",
       "  'id': 2013408,\n",
       "  'country': 'US',\n",
       "  'sunrise': 1665658471,\n",
       "  'sunset': 1665698765},\n",
       " 'timezone': -14400,\n",
       " 'id': 4930956,\n",
       " 'name': 'Boston',\n",
       " 'cod': 200}"
      ]
     },
     "execution_count": 12,
     "metadata": {},
     "output_type": "execute_result"
    }
   ],
   "source": [
    "# Get the JSON text of the 'Get' request. this is the same as the previous code\n",
    "# however we want it to show in json format\n",
    "city_weather.json()"
   ]
  },
  {
   "cell_type": "markdown",
   "id": "74b410fa",
   "metadata": {},
   "source": [
    "Handle Request Errors\n",
    "When we submit a get request for the city_weather, we want to make sure that we get a valid response, i.e., 200, before we retrieve any data. To check if we get a valid response, we can write a conditional expression that will evaluate whether the status code is equal to 200. If it is, then we can print out a statement that says the weather data was found. If there is a response other than 200, we can print out a statement that says the weather was not found, as in the following example:"
   ]
  },
  {
   "cell_type": "code",
   "execution_count": 13,
   "id": "b7e8baa8",
   "metadata": {},
   "outputs": [
    {
     "name": "stdout",
     "output_type": "stream",
     "text": [
      "City Weather found.\n"
     ]
    }
   ],
   "source": [
    "# Create an endpoint URL for a city.\n",
    "city_url = url + \"&q=\" + \"Boston\"\n",
    "city_weather = requests.get(city_url)\n",
    "if city_weather.status_code == 200:\n",
    "    print(f\"City Weather found.\")\n",
    "else:\n",
    "    print(f\"City weather not found.\")"
   ]
  },
  {
   "cell_type": "code",
   "execution_count": 14,
   "id": "cc4dc3f5",
   "metadata": {},
   "outputs": [
    {
     "name": "stdout",
     "output_type": "stream",
     "text": [
      "City weather not found.\n"
     ]
    }
   ],
   "source": [
    "# Create an endpoint URL for a city. this code is just showing when there is \n",
    "# an error in our case the error is on our mispelling\n",
    "city_url = url + \"&q=\" + \"Bston\"\n",
    "city_weather = requests.get(city_url)\n",
    "if city_weather.status_code == 200:\n",
    "    print(f\"City Weather found.\")\n",
    "else:\n",
    "    print(f\"City weather not found.\")\n"
   ]
  },
  {
   "cell_type": "code",
   "execution_count": 15,
   "id": "29ccb29a",
   "metadata": {},
   "outputs": [
    {
     "data": {
      "text/plain": [
       "{'coord': {'lon': -71.0598, 'lat': 42.3584},\n",
       " 'weather': [{'id': 501,\n",
       "   'main': 'Rain',\n",
       "   'description': 'moderate rain',\n",
       "   'icon': '10n'},\n",
       "  {'id': 701, 'main': 'Mist', 'description': 'mist', 'icon': '50n'}],\n",
       " 'base': 'stations',\n",
       " 'main': {'temp': 63.37,\n",
       "  'feels_like': 63.82,\n",
       "  'temp_min': 60.94,\n",
       "  'temp_max': 65.16,\n",
       "  'pressure': 1012,\n",
       "  'humidity': 94},\n",
       " 'visibility': 4023,\n",
       " 'wind': {'speed': 10.36, 'deg': 150},\n",
       " 'rain': {'1h': 1.78},\n",
       " 'clouds': {'all': 100},\n",
       " 'dt': 1665713386,\n",
       " 'sys': {'type': 2,\n",
       "  'id': 2013408,\n",
       "  'country': 'US',\n",
       "  'sunrise': 1665658471,\n",
       "  'sunset': 1665698765},\n",
       " 'timezone': -14400,\n",
       " 'id': 4930956,\n",
       " 'name': 'Boston',\n",
       " 'cod': 200}"
      ]
     },
     "execution_count": 15,
     "metadata": {},
     "output_type": "execute_result"
    }
   ],
   "source": [
    "# Create an endpoint URL for a city.\n",
    "city_url = url + \"&q=\" + \"Boston\"\n",
    "city_weather = requests.get(city_url)\n",
    "city_weather.json()"
   ]
  },
  {
   "cell_type": "code",
   "execution_count": 16,
   "id": "e6c64a01",
   "metadata": {},
   "outputs": [],
   "source": [
    "# Get the JSON data. and store it assigning a variable to city_weather.json\n",
    "boston_data = city_weather.json()"
   ]
  },
  {
   "cell_type": "code",
   "execution_count": 17,
   "id": "f76281dc",
   "metadata": {},
   "outputs": [
    {
     "data": {
      "text/plain": [
       "{'type': 2,\n",
       " 'id': 2013408,\n",
       " 'country': 'US',\n",
       " 'sunrise': 1665658471,\n",
       " 'sunset': 1665698765}"
      ]
     },
     "execution_count": 17,
     "metadata": {},
     "output_type": "execute_result"
    }
   ],
   "source": [
    "# using the sys key to get the corresponding value, we type \n",
    "# boston_data['sys'] in a new cell and run the cell. \n",
    "boston_data['sys']"
   ]
  },
  {
   "cell_type": "code",
   "execution_count": 20,
   "id": "771a36ee",
   "metadata": {},
   "outputs": [
    {
     "data": {
      "text/plain": [
       "'US'"
      ]
     },
     "execution_count": 20,
     "metadata": {},
     "output_type": "execute_result"
    }
   ],
   "source": [
    "# If we add the country key in brackets after the sys key, \n",
    "# and run the cell again, ‘US’ will be returned in the output.\n",
    "boston_data['sys']['country']"
   ]
  },
  {
   "cell_type": "code",
   "execution_count": 18,
   "id": "0875b9c0",
   "metadata": {},
   "outputs": [
    {
     "name": "stdout",
     "output_type": "stream",
     "text": [
      "42.3584 -71.0598 65.16 94 100 10.36\n"
     ]
    }
   ],
   "source": [
    "# this code is how to get data from our variable boston_data pay attention\n",
    "# this code works like this because is calling into our keys to get our values\n",
    "# there are nested dictionaries notice how coord is first because lat is a\n",
    "# sub category of coord the code is doing the same with the rest of the other\n",
    "# lines of codes\n",
    "lat = boston_data[\"coord\"][\"lat\"]\n",
    "lng = boston_data[\"coord\"][\"lon\"]\n",
    "max_temp = boston_data[\"main\"][\"temp_max\"]\n",
    "humidity = boston_data[\"main\"][\"humidity\"]\n",
    "clouds = boston_data[\"clouds\"][\"all\"]\n",
    "wind = boston_data[\"wind\"][\"speed\"]\n",
    "print(lat, lng, max_temp, humidity, clouds, wind)"
   ]
  },
  {
   "cell_type": "code",
   "execution_count": 21,
   "id": "9d703ca3",
   "metadata": {},
   "outputs": [
    {
     "data": {
      "text/plain": [
       "1665713386"
      ]
     },
     "execution_count": 21,
     "metadata": {},
     "output_type": "execute_result"
    }
   ],
   "source": [
    "# raw data of the date timestamp as it appears in the json \n",
    "boston_data[\"dt\"]"
   ]
  },
  {
   "cell_type": "markdown",
   "id": "fdb935cf",
   "metadata": {},
   "source": [
    "This format is called Coordinated Universal Time (UTC) or Greenwich Mean Time (GMT). If we want to convert the timestamp to the International Organization for Standardization (ISO) format, or YYYY-MM-DD-HH-MM-SS, we need to use the Python datetime module."
   ]
  },
  {
   "cell_type": "code",
   "execution_count": 22,
   "id": "a11d14c2",
   "metadata": {},
   "outputs": [
    {
     "data": {
      "text/plain": [
       "'2022-10-14 02:09:46'"
      ]
     },
     "execution_count": 22,
     "metadata": {},
     "output_type": "execute_result"
    }
   ],
   "source": [
    "# Import the datetime module from the datetime library. this next lines of codes\n",
    "# help us convert the date from UTC to ISO format\n",
    "from datetime import datetime\n",
    "# Get the date from the JSON file.\n",
    "date = boston_data[\"dt\"]\n",
    "# Convert the UTC date to a date format with year, month, day, hours, minutes, and seconds.\n",
    "datetime.utcfromtimestamp(date).strftime('%Y-%m-%d %H:%M:%S')"
   ]
  },
  {
   "cell_type": "code",
   "execution_count": 1,
   "id": "200c43a7",
   "metadata": {},
   "outputs": [
    {
     "data": {
      "text/plain": [
       "1665795439.7612689"
      ]
     },
     "execution_count": 1,
     "metadata": {},
     "output_type": "execute_result"
    }
   ],
   "source": [
    "# Import the time module. practicing how to use the time module \n",
    "import time\n",
    "# Get today's date in seconds.\n",
    "today = time.time()\n",
    "today"
   ]
  },
  {
   "cell_type": "markdown",
   "id": "54012e26",
   "metadata": {},
   "source": [
    "The format for time appears like the datetime stamp for the JSON weather data. We can convert this using the string format method, strftime() and pass the formatting parameters for our date in parentheses. To get the format for today, we can add %x inside the parentheses."
   ]
  },
  {
   "cell_type": "code",
   "execution_count": 3,
   "id": "6fab8d68",
   "metadata": {},
   "outputs": [
    {
     "data": {
      "text/plain": [
       "'10/14/22'"
      ]
     },
     "execution_count": 3,
     "metadata": {},
     "output_type": "execute_result"
    }
   ],
   "source": [
    "# continue to practice the time module \n",
    "today=time.strftime(\"%x\")\n",
    "today"
   ]
  },
  {
   "cell_type": "code",
   "execution_count": null,
   "id": "57454534",
   "metadata": {},
   "outputs": [],
   "source": []
  }
 ],
 "metadata": {
  "kernelspec": {
   "display_name": "PythonData",
   "language": "python",
   "name": "pythondata"
  },
  "language_info": {
   "codemirror_mode": {
    "name": "ipython",
    "version": 3
   },
   "file_extension": ".py",
   "mimetype": "text/x-python",
   "name": "python",
   "nbconvert_exporter": "python",
   "pygments_lexer": "ipython3",
   "version": "3.7.13"
  }
 },
 "nbformat": 4,
 "nbformat_minor": 5
}
