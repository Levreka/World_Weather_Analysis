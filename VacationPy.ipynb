{
 "cells": [
  {
   "cell_type": "code",
   "execution_count": 1,
   "id": "206b885a",
   "metadata": {},
   "outputs": [],
   "source": [
    "# Import the dependencies.\n",
    "import pandas as pd\n",
    "import gmaps\n",
    "import requests\n",
    "# Import the API key.\n",
    "from config import g_key\n",
    "\n"
   ]
  },
  {
   "cell_type": "markdown",
   "id": "8783bc9a",
   "metadata": {},
   "source": [
    "Let's review how we will use our dependencies. We'll use Pandas to read our CSV file and create the locations and measurements from the DataFrame. We'll use gmaps and the API key to create heatmaps and the locations map, and we'll use the requests dependency to make a request to the Google Places JSON file. This will allow us to get hotel locations from the latitude and longitude of the city.\n",
    "\n",
    "Next, we'll read our cities.csv file into a DataFrame. Add the following code and run it to create the DataFrame."
   ]
  },
  {
   "cell_type": "code",
   "execution_count": 2,
   "id": "0891a37f",
   "metadata": {},
   "outputs": [
    {
     "data": {
      "text/html": [
       "<div>\n",
       "<style scoped>\n",
       "    .dataframe tbody tr th:only-of-type {\n",
       "        vertical-align: middle;\n",
       "    }\n",
       "\n",
       "    .dataframe tbody tr th {\n",
       "        vertical-align: top;\n",
       "    }\n",
       "\n",
       "    .dataframe thead th {\n",
       "        text-align: right;\n",
       "    }\n",
       "</style>\n",
       "<table border=\"1\" class=\"dataframe\">\n",
       "  <thead>\n",
       "    <tr style=\"text-align: right;\">\n",
       "      <th></th>\n",
       "      <th>City_ID</th>\n",
       "      <th>City</th>\n",
       "      <th>Country</th>\n",
       "      <th>Date</th>\n",
       "      <th>Lat</th>\n",
       "      <th>Lng</th>\n",
       "      <th>Max Temp</th>\n",
       "      <th>Humidity</th>\n",
       "      <th>Cloudiness</th>\n",
       "      <th>Wind Speed</th>\n",
       "    </tr>\n",
       "  </thead>\n",
       "  <tbody>\n",
       "    <tr>\n",
       "      <th>0</th>\n",
       "      <td>0</td>\n",
       "      <td>Waipawa</td>\n",
       "      <td>NZ</td>\n",
       "      <td>2021-11-01 04:27:25</td>\n",
       "      <td>-41.4122</td>\n",
       "      <td>175.5153</td>\n",
       "      <td>61.30</td>\n",
       "      <td>62</td>\n",
       "      <td>79</td>\n",
       "      <td>4.00</td>\n",
       "    </tr>\n",
       "    <tr>\n",
       "      <th>1</th>\n",
       "      <td>1</td>\n",
       "      <td>Kahului</td>\n",
       "      <td>US</td>\n",
       "      <td>2021-11-01 04:23:18</td>\n",
       "      <td>20.8947</td>\n",
       "      <td>-156.4700</td>\n",
       "      <td>78.82</td>\n",
       "      <td>78</td>\n",
       "      <td>20</td>\n",
       "      <td>3.44</td>\n",
       "    </tr>\n",
       "    <tr>\n",
       "      <th>2</th>\n",
       "      <td>2</td>\n",
       "      <td>Ancud</td>\n",
       "      <td>CL</td>\n",
       "      <td>2021-11-01 04:27:25</td>\n",
       "      <td>-41.8697</td>\n",
       "      <td>-73.8203</td>\n",
       "      <td>53.13</td>\n",
       "      <td>93</td>\n",
       "      <td>0</td>\n",
       "      <td>10.20</td>\n",
       "    </tr>\n",
       "    <tr>\n",
       "      <th>3</th>\n",
       "      <td>3</td>\n",
       "      <td>Atuona</td>\n",
       "      <td>PF</td>\n",
       "      <td>2021-11-01 04:27:26</td>\n",
       "      <td>-9.8000</td>\n",
       "      <td>-139.0333</td>\n",
       "      <td>78.84</td>\n",
       "      <td>73</td>\n",
       "      <td>0</td>\n",
       "      <td>18.50</td>\n",
       "    </tr>\n",
       "    <tr>\n",
       "      <th>4</th>\n",
       "      <td>4</td>\n",
       "      <td>Puerto Ayora</td>\n",
       "      <td>EC</td>\n",
       "      <td>2021-11-01 04:26:22</td>\n",
       "      <td>-0.7393</td>\n",
       "      <td>-90.3518</td>\n",
       "      <td>68.90</td>\n",
       "      <td>92</td>\n",
       "      <td>37</td>\n",
       "      <td>6.11</td>\n",
       "    </tr>\n",
       "  </tbody>\n",
       "</table>\n",
       "</div>"
      ],
      "text/plain": [
       "   City_ID          City Country                 Date      Lat       Lng  \\\n",
       "0        0       Waipawa      NZ  2021-11-01 04:27:25 -41.4122  175.5153   \n",
       "1        1       Kahului      US  2021-11-01 04:23:18  20.8947 -156.4700   \n",
       "2        2         Ancud      CL  2021-11-01 04:27:25 -41.8697  -73.8203   \n",
       "3        3        Atuona      PF  2021-11-01 04:27:26  -9.8000 -139.0333   \n",
       "4        4  Puerto Ayora      EC  2021-11-01 04:26:22  -0.7393  -90.3518   \n",
       "\n",
       "   Max Temp  Humidity  Cloudiness  Wind Speed  \n",
       "0     61.30        62          79        4.00  \n",
       "1     78.82        78          20        3.44  \n",
       "2     53.13        93           0       10.20  \n",
       "3     78.84        73           0       18.50  \n",
       "4     68.90        92          37        6.11  "
      ]
     },
     "execution_count": 2,
     "metadata": {},
     "output_type": "execute_result"
    }
   ],
   "source": [
    "# Store the CSV you saved created in part one into a DataFrame.\n",
    "city_data_df = pd.read_csv(\"weather_data/cities.csv\")\n",
    "city_data_df.head()\n"
   ]
  },
  {
   "cell_type": "code",
   "execution_count": 3,
   "id": "1f41d228",
   "metadata": {},
   "outputs": [
    {
     "data": {
      "text/plain": [
       "City_ID         int64\n",
       "City           object\n",
       "Country        object\n",
       "Date           object\n",
       "Lat           float64\n",
       "Lng           float64\n",
       "Max Temp      float64\n",
       "Humidity        int64\n",
       "Cloudiness      int64\n",
       "Wind Speed    float64\n",
       "dtype: object"
      ]
     },
     "execution_count": 3,
     "metadata": {},
     "output_type": "execute_result"
    }
   ],
   "source": [
    "# get the data types\n",
    "city_data_df.dtypes"
   ]
  },
  {
   "cell_type": "markdown",
   "id": "44a0532f",
   "metadata": {},
   "source": [
    "First, tell gmaps to use your API key. You only need to configure gmaps to use your API key once."
   ]
  },
  {
   "cell_type": "code",
   "execution_count": 4,
   "id": "3411acbf",
   "metadata": {},
   "outputs": [],
   "source": [
    "# Configure gmaps to use your Google API key.\n",
    "gmaps.configure(api_key=g_key)"
   ]
  },
  {
   "cell_type": "markdown",
   "id": "81448b5c",
   "metadata": {},
   "source": [
    "Google heatmaps do not plot negative numbers. If you have a maximum temperature that is less than 0 °F, then you will get an InvalidWeightException error for this line of code:\n",
    "\n",
    "To remove the negative temperatures we can use a for loop to iterate through the max_temp and add the temperatures that are greater than 0 °F to a new list.\n",
    "\n",
    "Add a new cell above our previous code block, and then add the following code in the cell and run the cell."
   ]
  },
  {
   "cell_type": "code",
   "execution_count": 5,
   "id": "2665f1e8",
   "metadata": {},
   "outputs": [],
   "source": [
    "# this code is the loop reference in the comments above to deal with temperature\n",
    "# that are in the negatives\n",
    "# #Get the maximum temperature.\n",
    "# max_temp = city_data_df[\"Max Temp\"]\n",
    "# temps = []\n",
    "# for temp in max_temp:\n",
    "#     temps.append(max(temp, 0))"
   ]
  },
  {
   "cell_type": "markdown",
   "id": "c587660b",
   "metadata": {},
   "source": [
    "Instead of using the for loop, we can perform a list comprehension within the heatmap_layer() function.\n",
    "\n",
    "Replace temps with our code for the list comprehension so our heat_layer code looks like the following:\n",
    "\n",
    "heat_layer = gmaps.heatmap_layer(locations, weights=[max(temp, 0) for temp in max_temp])"
   ]
  },
  {
   "cell_type": "markdown",
   "id": "eb25b1d6",
   "metadata": {},
   "source": [
    "# Warning if this map is not rendering posible solutions: api key is not pasted correctly payment is not attach or not present in the google api gmaps not install properly might have to try different methods to install"
   ]
  },
  {
   "cell_type": "code",
   "execution_count": 6,
   "id": "202ff293",
   "metadata": {},
   "outputs": [
    {
     "data": {
      "application/vnd.jupyter.widget-view+json": {
       "model_id": "d60f8ac3e0b64e659d44f483b23680e4",
       "version_major": 2,
       "version_minor": 0
      },
      "text/plain": [
       "Figure(layout=FigureLayout(height='420px'))"
      ]
     },
     "metadata": {},
     "output_type": "display_data"
    }
   ],
   "source": [
    "# Heatmap of temperature\n",
    "# Get the latitude and longitude.\n",
    "locations = city_data_df[[\"Lat\", \"Lng\"]]\n",
    "# Get the maximum temperature.\n",
    "max_temp = city_data_df[\"Max Temp\"]\n",
    "# Assign the figure variable.\n",
    "fig = gmaps.figure(center=(30.0, 31.0), zoom_level=1.5)\n",
    "# Assign the heatmap variable. the comment out code was our original with out\n",
    "# any formatting\n",
    "# heat_layer = gmaps.heatmap_layer(locations, weights=[max(temp, 0) for temp in max_temp])\n",
    "heat_layer = gmaps.heatmap_layer(locations, weights=[max(temp, 0) for temp in max_temp], dissipating=False, max_intensity=300, point_radius=4)\n",
    "# Add the heatmap layer.\n",
    "fig.add_layer(heat_layer)\n",
    "# Call the figure to plot the data.\n",
    "fig"
   ]
  },
  {
   "cell_type": "code",
   "execution_count": 7,
   "id": "d3172902",
   "metadata": {},
   "outputs": [
    {
     "data": {
      "application/vnd.jupyter.widget-view+json": {
       "model_id": "6f14e9b72f104cf7ab4b6b36a9cce847",
       "version_major": 2,
       "version_minor": 0
      },
      "text/plain": [
       "Figure(layout=FigureLayout(height='420px'))"
      ]
     },
     "metadata": {},
     "output_type": "display_data"
    }
   ],
   "source": [
    "# Heatmap of percent humidity\n",
    "locations = city_data_df[[\"Lat\", \"Lng\"]]\n",
    "humidity = city_data_df[\"Humidity\"]\n",
    "fig = gmaps.figure(center=(30.0, 31.0), zoom_level=1.5)\n",
    "heat_layer = gmaps.heatmap_layer(locations, weights=humidity, dissipating=False, max_intensity=300, point_radius=4)\n",
    "\n",
    "fig.add_layer(heat_layer)\n",
    "# Call the figure to plot the data.\n",
    "fig"
   ]
  },
  {
   "cell_type": "code",
   "execution_count": 8,
   "id": "d1cd64e8",
   "metadata": {},
   "outputs": [
    {
     "data": {
      "application/vnd.jupyter.widget-view+json": {
       "model_id": "45fb6005f8f5456b8c48a3a4859c6ae6",
       "version_major": 2,
       "version_minor": 0
      },
      "text/plain": [
       "Figure(layout=FigureLayout(height='420px'))"
      ]
     },
     "metadata": {},
     "output_type": "display_data"
    }
   ],
   "source": [
    "# Heatmap of percent Cloudiness\n",
    "locations = city_data_df[[\"Lat\", \"Lng\"]]\n",
    "clouds = city_data_df[\"Cloudiness\"]\n",
    "fig = gmaps.figure(center=(30.0, 31.0), zoom_level=1.5)\n",
    "heat_layer = gmaps.heatmap_layer(locations, weights=clouds, dissipating=False, max_intensity=300, point_radius=4)\n",
    "\n",
    "fig.add_layer(heat_layer)\n",
    "# Call the figure to plot the data.\n",
    "fig"
   ]
  },
  {
   "cell_type": "code",
   "execution_count": 9,
   "id": "8edabbd4",
   "metadata": {
    "scrolled": true
   },
   "outputs": [
    {
     "data": {
      "application/vnd.jupyter.widget-view+json": {
       "model_id": "9d2ea66c7a02481ea3efdc2c1478ab31",
       "version_major": 2,
       "version_minor": 0
      },
      "text/plain": [
       "Figure(layout=FigureLayout(height='420px'))"
      ]
     },
     "metadata": {},
     "output_type": "display_data"
    }
   ],
   "source": [
    "# Heatmap of percent Wind Speed\n",
    "locations = city_data_df[[\"Lat\", \"Lng\"]]\n",
    "wind = city_data_df[\"Wind Speed\"]\n",
    "fig = gmaps.figure(center=(30.0, 31.0), zoom_level=1.5)\n",
    "heat_layer = gmaps.heatmap_layer(locations, weights=wind, dissipating=False, max_intensity=300, point_radius=4)\n",
    "\n",
    "fig.add_layer(heat_layer)\n",
    "# Call the figure to plot the data.\n",
    "fig"
   ]
  },
  {
   "cell_type": "markdown",
   "id": "d5ea0a9c",
   "metadata": {},
   "source": [
    "# Begin creation of app\n"
   ]
  },
  {
   "cell_type": "markdown",
   "id": "c8259399",
   "metadata": {},
   "source": [
    "\n",
    "\n",
    "we'll write two input statements for the app that will prompt the customer to add minimum and maximum temperature values and convert these values to floating-point decimals.\n",
    "\n",
    "Add these two input statements to a new cell and run the cell. When we run this cell, the customer will be prompted to enter the minimum temperature."
   ]
  },
  {
   "cell_type": "code",
   "execution_count": 10,
   "id": "65196f06",
   "metadata": {},
   "outputs": [
    {
     "name": "stdout",
     "output_type": "stream",
     "text": [
      "What is the minimum temperature you would like for your trip? 75\n",
      "What is the maximum temperature you would like for your trip? 90\n"
     ]
    }
   ],
   "source": [
    "# Ask the customer to add a minimum and maximum temperature value.\n",
    "min_temp = float(input(\"What is the minimum temperature you would like for your trip? \"))\n",
    "max_temp = float(input(\"What is the maximum temperature you would like for your trip? \"))"
   ]
  },
  {
   "cell_type": "markdown",
   "id": "16368f85",
   "metadata": {},
   "source": [
    "Next, filter the maximum temperature column in the city_data_df DataFrame using logical operators to create a new DataFrame with the cities that meet the customer's criteria.\n",
    "\n",
    "Recall that you use the loc[] method on the current DataFrame to create a new DataFrame from a current DataFrame. Inside the brackets, add the conditional filter."
   ]
  },
  {
   "cell_type": "code",
   "execution_count": 11,
   "id": "435d3588",
   "metadata": {},
   "outputs": [
    {
     "data": {
      "text/html": [
       "<div>\n",
       "<style scoped>\n",
       "    .dataframe tbody tr th:only-of-type {\n",
       "        vertical-align: middle;\n",
       "    }\n",
       "\n",
       "    .dataframe tbody tr th {\n",
       "        vertical-align: top;\n",
       "    }\n",
       "\n",
       "    .dataframe thead th {\n",
       "        text-align: right;\n",
       "    }\n",
       "</style>\n",
       "<table border=\"1\" class=\"dataframe\">\n",
       "  <thead>\n",
       "    <tr style=\"text-align: right;\">\n",
       "      <th></th>\n",
       "      <th>City_ID</th>\n",
       "      <th>City</th>\n",
       "      <th>Country</th>\n",
       "      <th>Date</th>\n",
       "      <th>Lat</th>\n",
       "      <th>Lng</th>\n",
       "      <th>Max Temp</th>\n",
       "      <th>Humidity</th>\n",
       "      <th>Cloudiness</th>\n",
       "      <th>Wind Speed</th>\n",
       "    </tr>\n",
       "  </thead>\n",
       "  <tbody>\n",
       "    <tr>\n",
       "      <th>1</th>\n",
       "      <td>1</td>\n",
       "      <td>Kahului</td>\n",
       "      <td>US</td>\n",
       "      <td>2021-11-01 04:23:18</td>\n",
       "      <td>20.8947</td>\n",
       "      <td>-156.4700</td>\n",
       "      <td>78.82</td>\n",
       "      <td>78</td>\n",
       "      <td>20</td>\n",
       "      <td>3.44</td>\n",
       "    </tr>\n",
       "    <tr>\n",
       "      <th>3</th>\n",
       "      <td>3</td>\n",
       "      <td>Atuona</td>\n",
       "      <td>PF</td>\n",
       "      <td>2021-11-01 04:27:26</td>\n",
       "      <td>-9.8000</td>\n",
       "      <td>-139.0333</td>\n",
       "      <td>78.84</td>\n",
       "      <td>73</td>\n",
       "      <td>0</td>\n",
       "      <td>18.50</td>\n",
       "    </tr>\n",
       "    <tr>\n",
       "      <th>6</th>\n",
       "      <td>6</td>\n",
       "      <td>Bambous Virieux</td>\n",
       "      <td>MU</td>\n",
       "      <td>2021-11-01 04:27:28</td>\n",
       "      <td>-20.3428</td>\n",
       "      <td>57.7575</td>\n",
       "      <td>78.22</td>\n",
       "      <td>78</td>\n",
       "      <td>40</td>\n",
       "      <td>6.91</td>\n",
       "    </tr>\n",
       "    <tr>\n",
       "      <th>7</th>\n",
       "      <td>7</td>\n",
       "      <td>Mahebourg</td>\n",
       "      <td>MU</td>\n",
       "      <td>2021-11-01 04:27:28</td>\n",
       "      <td>-20.4081</td>\n",
       "      <td>57.7000</td>\n",
       "      <td>78.26</td>\n",
       "      <td>78</td>\n",
       "      <td>40</td>\n",
       "      <td>6.91</td>\n",
       "    </tr>\n",
       "    <tr>\n",
       "      <th>10</th>\n",
       "      <td>10</td>\n",
       "      <td>Poum</td>\n",
       "      <td>NC</td>\n",
       "      <td>2021-11-01 04:27:30</td>\n",
       "      <td>-20.2333</td>\n",
       "      <td>164.0167</td>\n",
       "      <td>75.88</td>\n",
       "      <td>74</td>\n",
       "      <td>1</td>\n",
       "      <td>21.94</td>\n",
       "    </tr>\n",
       "    <tr>\n",
       "      <th>23</th>\n",
       "      <td>23</td>\n",
       "      <td>Hilo</td>\n",
       "      <td>US</td>\n",
       "      <td>2021-11-01 04:27:36</td>\n",
       "      <td>19.7297</td>\n",
       "      <td>-155.0900</td>\n",
       "      <td>76.73</td>\n",
       "      <td>83</td>\n",
       "      <td>90</td>\n",
       "      <td>3.44</td>\n",
       "    </tr>\n",
       "    <tr>\n",
       "      <th>46</th>\n",
       "      <td>46</td>\n",
       "      <td>Trairi</td>\n",
       "      <td>BR</td>\n",
       "      <td>2021-11-01 04:25:27</td>\n",
       "      <td>-3.2778</td>\n",
       "      <td>-39.2689</td>\n",
       "      <td>80.55</td>\n",
       "      <td>75</td>\n",
       "      <td>75</td>\n",
       "      <td>10.58</td>\n",
       "    </tr>\n",
       "    <tr>\n",
       "      <th>49</th>\n",
       "      <td>49</td>\n",
       "      <td>Georgetown</td>\n",
       "      <td>MY</td>\n",
       "      <td>2021-11-01 04:27:48</td>\n",
       "      <td>5.4112</td>\n",
       "      <td>100.3354</td>\n",
       "      <td>89.53</td>\n",
       "      <td>70</td>\n",
       "      <td>20</td>\n",
       "      <td>3.44</td>\n",
       "    </tr>\n",
       "    <tr>\n",
       "      <th>50</th>\n",
       "      <td>50</td>\n",
       "      <td>Batie</td>\n",
       "      <td>BF</td>\n",
       "      <td>2021-11-01 04:27:48</td>\n",
       "      <td>9.8833</td>\n",
       "      <td>-2.9167</td>\n",
       "      <td>75.88</td>\n",
       "      <td>63</td>\n",
       "      <td>96</td>\n",
       "      <td>4.05</td>\n",
       "    </tr>\n",
       "    <tr>\n",
       "      <th>51</th>\n",
       "      <td>51</td>\n",
       "      <td>Vaini</td>\n",
       "      <td>TO</td>\n",
       "      <td>2021-11-01 04:27:49</td>\n",
       "      <td>-21.2000</td>\n",
       "      <td>-175.2000</td>\n",
       "      <td>80.76</td>\n",
       "      <td>83</td>\n",
       "      <td>20</td>\n",
       "      <td>9.22</td>\n",
       "    </tr>\n",
       "  </tbody>\n",
       "</table>\n",
       "</div>"
      ],
      "text/plain": [
       "    City_ID             City Country                 Date      Lat       Lng  \\\n",
       "1         1          Kahului      US  2021-11-01 04:23:18  20.8947 -156.4700   \n",
       "3         3           Atuona      PF  2021-11-01 04:27:26  -9.8000 -139.0333   \n",
       "6         6  Bambous Virieux      MU  2021-11-01 04:27:28 -20.3428   57.7575   \n",
       "7         7        Mahebourg      MU  2021-11-01 04:27:28 -20.4081   57.7000   \n",
       "10       10             Poum      NC  2021-11-01 04:27:30 -20.2333  164.0167   \n",
       "23       23             Hilo      US  2021-11-01 04:27:36  19.7297 -155.0900   \n",
       "46       46           Trairi      BR  2021-11-01 04:25:27  -3.2778  -39.2689   \n",
       "49       49       Georgetown      MY  2021-11-01 04:27:48   5.4112  100.3354   \n",
       "50       50            Batie      BF  2021-11-01 04:27:48   9.8833   -2.9167   \n",
       "51       51            Vaini      TO  2021-11-01 04:27:49 -21.2000 -175.2000   \n",
       "\n",
       "    Max Temp  Humidity  Cloudiness  Wind Speed  \n",
       "1      78.82        78          20        3.44  \n",
       "3      78.84        73           0       18.50  \n",
       "6      78.22        78          40        6.91  \n",
       "7      78.26        78          40        6.91  \n",
       "10     75.88        74           1       21.94  \n",
       "23     76.73        83          90        3.44  \n",
       "46     80.55        75          75       10.58  \n",
       "49     89.53        70          20        3.44  \n",
       "50     75.88        63          96        4.05  \n",
       "51     80.76        83          20        9.22  "
      ]
     },
     "execution_count": 11,
     "metadata": {},
     "output_type": "execute_result"
    }
   ],
   "source": [
    "# Filter the dataset to find the cities that fit the criteria.\n",
    "preferred_cities_df = city_data_df.loc[(city_data_df[\"Max Temp\"] <= max_temp) & \\\n",
    "                                       (city_data_df[\"Max Temp\"] >= min_temp)]\n",
    "preferred_cities_df.head(10)"
   ]
  },
  {
   "cell_type": "code",
   "execution_count": 12,
   "id": "6a70fa98",
   "metadata": {},
   "outputs": [
    {
     "data": {
      "text/plain": [
       "City_ID       0\n",
       "City          0\n",
       "Country       1\n",
       "Date          0\n",
       "Lat           0\n",
       "Lng           0\n",
       "Max Temp      0\n",
       "Humidity      0\n",
       "Cloudiness    0\n",
       "Wind Speed    0\n",
       "dtype: int64"
      ]
     },
     "execution_count": 12,
     "metadata": {},
     "output_type": "execute_result"
    }
   ],
   "source": [
    "#determine if the preferred_cities_df has any null values or rows\n",
    "preferred_cities_df.isnull().sum()"
   ]
  },
  {
   "cell_type": "code",
   "execution_count": 13,
   "id": "5853cb43",
   "metadata": {},
   "outputs": [
    {
     "data": {
      "text/plain": [
       "City_ID       155\n",
       "City          155\n",
       "Country       154\n",
       "Date          155\n",
       "Lat           155\n",
       "Lng           155\n",
       "Max Temp      155\n",
       "Humidity      155\n",
       "Cloudiness    155\n",
       "Wind Speed    155\n",
       "dtype: int64"
      ]
     },
     "execution_count": 13,
     "metadata": {},
     "output_type": "execute_result"
    }
   ],
   "source": [
    "# this code is doing the same thing as the above method\n",
    "preferred_cities_df.count()"
   ]
  },
  {
   "cell_type": "code",
   "execution_count": 14,
   "id": "2b9383f8",
   "metadata": {},
   "outputs": [],
   "source": [
    "#droping the null values\n",
    "preferred_cities_df = preferred_cities_df.dropna()"
   ]
  },
  {
   "cell_type": "code",
   "execution_count": 15,
   "id": "38202a8c",
   "metadata": {},
   "outputs": [
    {
     "data": {
      "text/plain": [
       "City_ID       0\n",
       "City          0\n",
       "Country       0\n",
       "Date          0\n",
       "Lat           0\n",
       "Lng           0\n",
       "Max Temp      0\n",
       "Humidity      0\n",
       "Cloudiness    0\n",
       "Wind Speed    0\n",
       "dtype: int64"
      ]
     },
     "execution_count": 15,
     "metadata": {},
     "output_type": "execute_result"
    }
   ],
   "source": [
    "#determine if the preferred_cities_df has any null values or rows\n",
    "preferred_cities_df.isnull().sum()"
   ]
  },
  {
   "cell_type": "markdown",
   "id": "ac18b428",
   "metadata": {},
   "source": [
    "Don't add the hotel information to the preferred_cities_df DataFrame because this DataFrame is our filtered DataFrame, and the customer will always filter it for each trip. We'll need to create a new DataFrame specifically for the data needed to create a heatmap and pop-up markers."
   ]
  },
  {
   "cell_type": "code",
   "execution_count": 16,
   "id": "0442bd2a",
   "metadata": {},
   "outputs": [
    {
     "data": {
      "text/html": [
       "<div>\n",
       "<style scoped>\n",
       "    .dataframe tbody tr th:only-of-type {\n",
       "        vertical-align: middle;\n",
       "    }\n",
       "\n",
       "    .dataframe tbody tr th {\n",
       "        vertical-align: top;\n",
       "    }\n",
       "\n",
       "    .dataframe thead th {\n",
       "        text-align: right;\n",
       "    }\n",
       "</style>\n",
       "<table border=\"1\" class=\"dataframe\">\n",
       "  <thead>\n",
       "    <tr style=\"text-align: right;\">\n",
       "      <th></th>\n",
       "      <th>City</th>\n",
       "      <th>Country</th>\n",
       "      <th>Max Temp</th>\n",
       "      <th>Lat</th>\n",
       "      <th>Lng</th>\n",
       "      <th>Hotel Name</th>\n",
       "    </tr>\n",
       "  </thead>\n",
       "  <tbody>\n",
       "    <tr>\n",
       "      <th>1</th>\n",
       "      <td>Kahului</td>\n",
       "      <td>US</td>\n",
       "      <td>78.82</td>\n",
       "      <td>20.8947</td>\n",
       "      <td>-156.4700</td>\n",
       "      <td></td>\n",
       "    </tr>\n",
       "    <tr>\n",
       "      <th>3</th>\n",
       "      <td>Atuona</td>\n",
       "      <td>PF</td>\n",
       "      <td>78.84</td>\n",
       "      <td>-9.8000</td>\n",
       "      <td>-139.0333</td>\n",
       "      <td></td>\n",
       "    </tr>\n",
       "    <tr>\n",
       "      <th>6</th>\n",
       "      <td>Bambous Virieux</td>\n",
       "      <td>MU</td>\n",
       "      <td>78.22</td>\n",
       "      <td>-20.3428</td>\n",
       "      <td>57.7575</td>\n",
       "      <td></td>\n",
       "    </tr>\n",
       "    <tr>\n",
       "      <th>7</th>\n",
       "      <td>Mahebourg</td>\n",
       "      <td>MU</td>\n",
       "      <td>78.26</td>\n",
       "      <td>-20.4081</td>\n",
       "      <td>57.7000</td>\n",
       "      <td></td>\n",
       "    </tr>\n",
       "    <tr>\n",
       "      <th>10</th>\n",
       "      <td>Poum</td>\n",
       "      <td>NC</td>\n",
       "      <td>75.88</td>\n",
       "      <td>-20.2333</td>\n",
       "      <td>164.0167</td>\n",
       "      <td></td>\n",
       "    </tr>\n",
       "    <tr>\n",
       "      <th>23</th>\n",
       "      <td>Hilo</td>\n",
       "      <td>US</td>\n",
       "      <td>76.73</td>\n",
       "      <td>19.7297</td>\n",
       "      <td>-155.0900</td>\n",
       "      <td></td>\n",
       "    </tr>\n",
       "    <tr>\n",
       "      <th>46</th>\n",
       "      <td>Trairi</td>\n",
       "      <td>BR</td>\n",
       "      <td>80.55</td>\n",
       "      <td>-3.2778</td>\n",
       "      <td>-39.2689</td>\n",
       "      <td></td>\n",
       "    </tr>\n",
       "    <tr>\n",
       "      <th>49</th>\n",
       "      <td>Georgetown</td>\n",
       "      <td>MY</td>\n",
       "      <td>89.53</td>\n",
       "      <td>5.4112</td>\n",
       "      <td>100.3354</td>\n",
       "      <td></td>\n",
       "    </tr>\n",
       "    <tr>\n",
       "      <th>50</th>\n",
       "      <td>Batie</td>\n",
       "      <td>BF</td>\n",
       "      <td>75.88</td>\n",
       "      <td>9.8833</td>\n",
       "      <td>-2.9167</td>\n",
       "      <td></td>\n",
       "    </tr>\n",
       "    <tr>\n",
       "      <th>51</th>\n",
       "      <td>Vaini</td>\n",
       "      <td>TO</td>\n",
       "      <td>80.76</td>\n",
       "      <td>-21.2000</td>\n",
       "      <td>-175.2000</td>\n",
       "      <td></td>\n",
       "    </tr>\n",
       "  </tbody>\n",
       "</table>\n",
       "</div>"
      ],
      "text/plain": [
       "               City Country  Max Temp      Lat       Lng Hotel Name\n",
       "1           Kahului      US     78.82  20.8947 -156.4700           \n",
       "3            Atuona      PF     78.84  -9.8000 -139.0333           \n",
       "6   Bambous Virieux      MU     78.22 -20.3428   57.7575           \n",
       "7         Mahebourg      MU     78.26 -20.4081   57.7000           \n",
       "10             Poum      NC     75.88 -20.2333  164.0167           \n",
       "23             Hilo      US     76.73  19.7297 -155.0900           \n",
       "46           Trairi      BR     80.55  -3.2778  -39.2689           \n",
       "49       Georgetown      MY     89.53   5.4112  100.3354           \n",
       "50            Batie      BF     75.88   9.8833   -2.9167           \n",
       "51            Vaini      TO     80.76 -21.2000 -175.2000           "
      ]
     },
     "execution_count": 16,
     "metadata": {},
     "output_type": "execute_result"
    }
   ],
   "source": [
    "# Create DataFrame called hotel_df to store hotel names along with city, country, max temp, and coordinates.\n",
    "hotel_df = preferred_cities_df[[\"City\", \"Country\", \"Max Temp\", \"Lat\", \"Lng\"]].copy()\n",
    "hotel_df[\"Hotel Name\"] = \"\"\n",
    "hotel_df.head(10)"
   ]
  },
  {
   "cell_type": "markdown",
   "id": "f948fd1e",
   "metadata": {},
   "source": [
    "# Retrieve Hotels from a Nearby Search"
   ]
  },
  {
   "cell_type": "markdown",
   "id": "9fc594ec",
   "metadata": {},
   "source": [
    "IMPORTANT: always check documentation to set this properly\n",
    "The Nearby Search request lets us perform these tasks:\n",
    "\n",
    "Search for places within a specified area.\n",
    "Refine the search using keywords and specifying the type of place we are searching for.\n",
    "Use an API URL, where the output can be either XML or JSON format.\n",
    "\n",
    "Specific parameters include:\n",
    "\n",
    "Our API key\n",
    "A location, which will be the latitude and longitude\n",
    "A radius for the search. The radius can be up to 50,000 meters or approximately 31 miles. This distance is much too great for finding hotels, so we'll keep our search to 5,000 meters.\n",
    "If we use the rankby=distance for a parameter, we need to add one or more of the three parameters above. We won't use the rankby=distance because we will be searching based on the radius from a given latitude and longitude.\n",
    "\n",
    "For our hotel search, we'll use these parameters:\n",
    "\n",
    "API key\n",
    "Latitude and longitude\n",
    "5,000-meter radius\n",
    "Type of place\n"
   ]
  },
  {
   "cell_type": "code",
   "execution_count": 17,
   "id": "1e738eb0",
   "metadata": {},
   "outputs": [],
   "source": [
    "# Set parameters to search for a hotel.\n",
    "params = {\n",
    "    \"radius\": 5000,\n",
    "    \"type\": \"lodging\",\n",
    "    \"key\": g_key\n",
    "}"
   ]
  },
  {
   "cell_type": "code",
   "execution_count": 18,
   "id": "c2ffb34f",
   "metadata": {},
   "outputs": [
    {
     "ename": "IndexError",
     "evalue": "list index out of range",
     "output_type": "error",
     "traceback": [
      "\u001b[1;31m---------------------------------------------------------------------------\u001b[0m",
      "\u001b[1;31mIndexError\u001b[0m                                Traceback (most recent call last)",
      "\u001b[1;32m~\\AppData\\Local\\Temp\\ipykernel_2612\\3718543742.py\u001b[0m in \u001b[0;36m<module>\u001b[1;34m\u001b[0m\n\u001b[0;32m     13\u001b[0m     \u001b[0mhotels\u001b[0m \u001b[1;33m=\u001b[0m \u001b[0mrequests\u001b[0m\u001b[1;33m.\u001b[0m\u001b[0mget\u001b[0m\u001b[1;33m(\u001b[0m\u001b[0mbase_url\u001b[0m\u001b[1;33m,\u001b[0m \u001b[0mparams\u001b[0m\u001b[1;33m=\u001b[0m\u001b[0mparams\u001b[0m\u001b[1;33m)\u001b[0m\u001b[1;33m.\u001b[0m\u001b[0mjson\u001b[0m\u001b[1;33m(\u001b[0m\u001b[1;33m)\u001b[0m\u001b[1;33m\u001b[0m\u001b[1;33m\u001b[0m\u001b[0m\n\u001b[0;32m     14\u001b[0m     \u001b[1;31m# Grab the first hotel from the results and store the name.\u001b[0m\u001b[1;33m\u001b[0m\u001b[1;33m\u001b[0m\u001b[1;33m\u001b[0m\u001b[0m\n\u001b[1;32m---> 15\u001b[1;33m     \u001b[0mhotel_df\u001b[0m\u001b[1;33m.\u001b[0m\u001b[0mloc\u001b[0m\u001b[1;33m[\u001b[0m\u001b[0mindex\u001b[0m\u001b[1;33m,\u001b[0m \u001b[1;34m\"Hotel Name\"\u001b[0m\u001b[1;33m]\u001b[0m \u001b[1;33m=\u001b[0m \u001b[0mhotels\u001b[0m\u001b[1;33m[\u001b[0m\u001b[1;34m\"results\"\u001b[0m\u001b[1;33m]\u001b[0m\u001b[1;33m[\u001b[0m\u001b[1;36m0\u001b[0m\u001b[1;33m]\u001b[0m\u001b[1;33m[\u001b[0m\u001b[1;34m\"name\"\u001b[0m\u001b[1;33m]\u001b[0m\u001b[1;33m\u001b[0m\u001b[1;33m\u001b[0m\u001b[0m\n\u001b[0m",
      "\u001b[1;31mIndexError\u001b[0m: list index out of range"
     ]
    }
   ],
   "source": [
    "# # Iterate through the DataFrame.\n",
    "# for index, row in hotel_df.iterrows():\n",
    "#     # Get the latitude and longitude.\n",
    "#     lat = row[\"Lat\"]\n",
    "#     lng = row[\"Lng\"]\n",
    "\n",
    "#     # Add the latitude and longitude to location key for the params dictionary.\n",
    "#     params[\"location\"] = f\"{lat},{lng}\"\n",
    "\n",
    "#     # Use the search term: \"lodging\" and our latitude and longitude.\n",
    "#     base_url = \"https://maps.googleapis.com/maps/api/place/nearbysearch/json\"\n",
    "#     # Make request and get the JSON data from the search.\n",
    "#     hotels = requests.get(base_url, params=params).json()\n",
    "#     # Grab the first hotel from the results and store the name.\n",
    "#     hotel_df.loc[index, \"Hotel Name\"] = hotels[\"results\"][0][\"name\"]"
   ]
  },
  {
   "cell_type": "markdown",
   "id": "51a99199",
   "metadata": {},
   "source": [
    "Recall that when trying to parse the data from an API request, we need to use a try-except block to handle the error with a statement and continue the retrieval: REASON WHY ABOVE CODE WILL GIVE YOU AN ERROR\n"
   ]
  },
  {
   "cell_type": "code",
   "execution_count": null,
   "id": "cca50e69",
   "metadata": {},
   "outputs": [],
   "source": []
  }
 ],
 "metadata": {
  "kernelspec": {
   "display_name": "Python 3 (ipykernel)",
   "language": "python",
   "name": "python3"
  },
  "language_info": {
   "codemirror_mode": {
    "name": "ipython",
    "version": 3
   },
   "file_extension": ".py",
   "mimetype": "text/x-python",
   "name": "python",
   "nbconvert_exporter": "python",
   "pygments_lexer": "ipython3",
   "version": "3.7.13"
  }
 },
 "nbformat": 4,
 "nbformat_minor": 5
}
